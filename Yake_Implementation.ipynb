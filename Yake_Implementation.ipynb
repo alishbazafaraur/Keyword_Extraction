{
 "cells": [
  {
   "cell_type": "code",
   "execution_count": 4,
   "id": "20ec7948",
   "metadata": {},
   "outputs": [
    {
     "name": "stdout",
     "output_type": "stream",
     "text": [
      "Time taken to extract keywords: 0.061979 seconds\n",
      "Extracted Keywords:\n",
      "Keyword: JUHBZ Launches Global Score: 0.007175663471010723\n",
      "Keyword: Launches Global Community Score: 0.01100126846324667\n",
      "Keyword: trading platform JUHBZ Score: 0.014396060553819675\n",
      "Keyword: JUHBZ Launches Score: 0.01867161034279373\n",
      "Keyword: user ecosystem development Score: 0.019695649423747654\n",
      "Keyword: Elevate Cryptocurrency Industry Score: 0.022056044853776473\n",
      "Keyword: Community Collaboration Program Score: 0.0229910745405981\n",
      "Keyword: Launches Global Score: 0.02674500571998874\n",
      "Keyword: cryptocurrency trading platform Score: 0.02987526774208272\n",
      "Keyword: rapidly evolving cryptocurrency Score: 0.02987526774208273\n",
      "\n",
      "Filtered Keywords for Image Generation:\n",
      "JUHBZ Launches Global\n",
      "Launches Global Community\n",
      "trading platform JUHBZ\n",
      "JUHBZ Launches\n",
      "user ecosystem development\n",
      "Elevate Cryptocurrency Industry\n",
      "Community Collaboration Program\n",
      "Launches Global\n",
      "cryptocurrency trading platform\n",
      "rapidly evolving cryptocurrency\n"
     ]
    }
   ],
   "source": [
    "from yake import KeywordExtractor\n",
    "import time\n",
    "\n",
    "# Example blog content\n",
    "blog_text = \"\"\"\n",
    "**JUHBZ Launches Global Community Collaboration Program to Elevate Cryptocurrency Industry** \n",
    "In a groundbreaking move, the cryptocurrency trading platform JUHBZ has launched a global community collaboration program aimed at fostering knowledge and user ecosystem development within the rapidly evolving cryptocurrency industry. \n",
    "This initiative is strategically designed to support community development and stimulate innovation across the sector. JUHBZ's program will set up several collaboration frameworks, including: \n",
    "1. **Financial Support:** Providing essential funding to promising projects and community initiatives. \n",
    "2. **Community Events:** Backing local and global events aimed at educating and engaging crypto enthusiasts. \n",
    "3. **Technical Exchanges:** Facilitating knowledge transfer and technical expertise among community members. \n",
    "4. **Operational Partnerships:** Encouraging alliances between various stakeholders to drive industry growth. \n",
    "The program’s reach extends to online forums, social media groups, local community events, and a myriad of industry conferences. \n",
    "This initiative marks a significant step forward in promoting collaboration and knowledge sharing, ensuring the cryptocurrency industry continues to innovate and thrive. \n",
    "Are you ready to be part of the future of cryptocurrency? Join the JUHBZ Community Collaboration Program today and help shape the next chapter of digital finance. Visit our website to get started!\n",
    "\"\"\"\n",
    "\n",
    "# Configure the KeywordExtractor\n",
    "kw_extractor = KeywordExtractor(\n",
    "    lan=\"en\",          # English language\n",
    "    n=3,               # Consider up to 3-word phrases\n",
    "    dedupLim=0.9,      # Deduplication limit to avoid similar keywords\n",
    "    top=10,            # Extract the top 10 keywords\n",
    "    features=None      # Use default feature set\n",
    ")\n",
    "\n",
    "# Measure the time taken to extract keywords\n",
    "start_time = time.time()  # Record the start time\n",
    "\n",
    "# Extract keywords from the blog text\n",
    "keywords = kw_extractor.extract_keywords(blog_text)\n",
    "\n",
    "end_time = time.time()  # Record the end time\n",
    "elapsed_time = end_time - start_time\n",
    "\n",
    "# Print the time taken for extraction\n",
    "print(f\"Time taken to extract keywords: {elapsed_time:.6f} seconds\")\n",
    "\n",
    "# Print extracted keywords and their scores\n",
    "print(\"Extracted Keywords:\")\n",
    "for kw in keywords:\n",
    "    print(\"Keyword:\", kw[0], \"Score:\", kw[1])\n",
    "\n",
    "# Optionally, filter keywords for image relevance (e.g., focusing on nouns or concrete concepts)\n",
    "filtered_keywords = [kw[0] for kw in keywords if \" \" in kw[0] or kw[0].istitle()]\n",
    "print(\"\\nFiltered Keywords for Image Generation:\")\n",
    "for keyword in filtered_keywords:\n",
    "    print(keyword)\n"
   ]
  },
  {
   "cell_type": "code",
   "execution_count": null,
   "id": "49eff5eb",
   "metadata": {},
   "outputs": [],
   "source": []
  }
 ],
 "metadata": {
  "kernelspec": {
   "display_name": "Python 3 (ipykernel)",
   "language": "python",
   "name": "python3"
  },
  "language_info": {
   "codemirror_mode": {
    "name": "ipython",
    "version": 3
   },
   "file_extension": ".py",
   "mimetype": "text/x-python",
   "name": "python",
   "nbconvert_exporter": "python",
   "pygments_lexer": "ipython3",
   "version": "3.11.4"
  }
 },
 "nbformat": 4,
 "nbformat_minor": 5
}
